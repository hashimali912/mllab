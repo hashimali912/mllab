{
 "cells": [
  {
   "cell_type": "code",
   "execution_count": 2,
   "id": "dad6da02-9810-438c-b3f5-84082a0928c7",
   "metadata": {},
   "outputs": [],
   "source": [
    "import pandas as pd\n",
    "import numpy as np\n",
    "import matplotlib.pyplot as plt"
   ]
  },
  {
   "cell_type": "code",
   "execution_count": 3,
   "id": "7bcbab06-b72c-432e-a8a5-eea87575b923",
   "metadata": {},
   "outputs": [
    {
     "data": {
      "text/html": [
       "<div>\n",
       "<style scoped>\n",
       "    .dataframe tbody tr th:only-of-type {\n",
       "        vertical-align: middle;\n",
       "    }\n",
       "\n",
       "    .dataframe tbody tr th {\n",
       "        vertical-align: top;\n",
       "    }\n",
       "\n",
       "    .dataframe thead th {\n",
       "        text-align: right;\n",
       "    }\n",
       "</style>\n",
       "<table border=\"1\" class=\"dataframe\">\n",
       "  <thead>\n",
       "    <tr style=\"text-align: right;\">\n",
       "      <th></th>\n",
       "      <th>stud_id</th>\n",
       "      <th>stud_name</th>\n",
       "      <th>college_name</th>\n",
       "      <th>course</th>\n",
       "      <th>cgpa</th>\n",
       "      <th>placed or not</th>\n",
       "      <th>company_name</th>\n",
       "    </tr>\n",
       "  </thead>\n",
       "  <tbody>\n",
       "    <tr>\n",
       "      <th>0</th>\n",
       "      <td>1</td>\n",
       "      <td>John Smith</td>\n",
       "      <td>XYZ University</td>\n",
       "      <td>Computer Science</td>\n",
       "      <td>8.4</td>\n",
       "      <td>Yes</td>\n",
       "      <td>TechCorp</td>\n",
       "    </tr>\n",
       "    <tr>\n",
       "      <th>1</th>\n",
       "      <td>2</td>\n",
       "      <td>Alice Brown</td>\n",
       "      <td>ABC Institute</td>\n",
       "      <td>Mechanical Engg</td>\n",
       "      <td>7.1</td>\n",
       "      <td>No</td>\n",
       "      <td>NaN</td>\n",
       "    </tr>\n",
       "    <tr>\n",
       "      <th>2</th>\n",
       "      <td>3</td>\n",
       "      <td>Bob White</td>\n",
       "      <td>PQR College</td>\n",
       "      <td>Electrical Engg</td>\n",
       "      <td>8.8</td>\n",
       "      <td>Yes</td>\n",
       "      <td>ElectroTech</td>\n",
       "    </tr>\n",
       "    <tr>\n",
       "      <th>3</th>\n",
       "      <td>4</td>\n",
       "      <td>Sarah Lee</td>\n",
       "      <td>XYZ University</td>\n",
       "      <td>Civil Engg</td>\n",
       "      <td>6.7</td>\n",
       "      <td>No</td>\n",
       "      <td>NaN</td>\n",
       "    </tr>\n",
       "    <tr>\n",
       "      <th>4</th>\n",
       "      <td>5</td>\n",
       "      <td>Tom Black</td>\n",
       "      <td>ABC Institute</td>\n",
       "      <td>IT</td>\n",
       "      <td>9.2</td>\n",
       "      <td>Yes</td>\n",
       "      <td>CodeWorks</td>\n",
       "    </tr>\n",
       "  </tbody>\n",
       "</table>\n",
       "</div>"
      ],
      "text/plain": [
       "   stud_id    stud_name    college_name            course  cgpa placed or not  \\\n",
       "0        1   John Smith  XYZ University  Computer Science   8.4           Yes   \n",
       "1        2  Alice Brown   ABC Institute   Mechanical Engg   7.1            No   \n",
       "2        3    Bob White     PQR College   Electrical Engg   8.8           Yes   \n",
       "3        4    Sarah Lee  XYZ University        Civil Engg   6.7            No   \n",
       "4        5    Tom Black   ABC Institute                IT   9.2           Yes   \n",
       "\n",
       "  company_name  \n",
       "0     TechCorp  \n",
       "1          NaN  \n",
       "2  ElectroTech  \n",
       "3          NaN  \n",
       "4    CodeWorks  "
      ]
     },
     "execution_count": 3,
     "metadata": {},
     "output_type": "execute_result"
    }
   ],
   "source": [
    "# download student dataset from pandas example datasets in github\n",
    "df = pd.read_csv(\"student_dataset.csv\")\n",
    "df.head()"
   ]
  },
  {
   "cell_type": "code",
   "execution_count": 23,
   "id": "ae947b3f-f892-49bd-bf54-c24c6e81f6ba",
   "metadata": {},
   "outputs": [
    {
     "data": {
      "text/plain": [
       "(60, 7)"
      ]
     },
     "execution_count": 23,
     "metadata": {},
     "output_type": "execute_result"
    }
   ],
   "source": [
    "df.shape"
   ]
  },
  {
   "cell_type": "code",
   "execution_count": 22,
   "id": "6508c66d-85b5-48a0-a2b4-80a966c37748",
   "metadata": {},
   "outputs": [
    {
     "data": {
      "text/plain": [
       "Index(['stud_id', 'stud_name', 'college_name', 'course', 'cgpa',\n",
       "       'placed or not', 'company_name'],\n",
       "      dtype='object')"
      ]
     },
     "execution_count": 22,
     "metadata": {},
     "output_type": "execute_result"
    }
   ],
   "source": [
    "df.columns"
   ]
  },
  {
   "cell_type": "code",
   "execution_count": 4,
   "id": "f57d5d34-aa0c-4578-8c9e-00d10f43ba95",
   "metadata": {},
   "outputs": [
    {
     "name": "stdout",
     "output_type": "stream",
     "text": [
      "<class 'pandas.core.frame.DataFrame'>\n",
      "RangeIndex: 60 entries, 0 to 59\n",
      "Data columns (total 7 columns):\n",
      " #   Column         Non-Null Count  Dtype  \n",
      "---  ------         --------------  -----  \n",
      " 0   stud_id        60 non-null     int64  \n",
      " 1   stud_name      60 non-null     object \n",
      " 2   college_name   60 non-null     object \n",
      " 3   course         60 non-null     object \n",
      " 4   cgpa           59 non-null     float64\n",
      " 5   placed or not  60 non-null     object \n",
      " 6   company_name   54 non-null     object \n",
      "dtypes: float64(1), int64(1), object(5)\n",
      "memory usage: 3.4+ KB\n"
     ]
    }
   ],
   "source": [
    "df.info()"
   ]
  },
  {
   "cell_type": "code",
   "execution_count": 5,
   "id": "c96ec140-a51f-4a06-ba7b-214b49cd5c53",
   "metadata": {},
   "outputs": [
    {
     "data": {
      "text/html": [
       "<div>\n",
       "<style scoped>\n",
       "    .dataframe tbody tr th:only-of-type {\n",
       "        vertical-align: middle;\n",
       "    }\n",
       "\n",
       "    .dataframe tbody tr th {\n",
       "        vertical-align: top;\n",
       "    }\n",
       "\n",
       "    .dataframe thead th {\n",
       "        text-align: right;\n",
       "    }\n",
       "</style>\n",
       "<table border=\"1\" class=\"dataframe\">\n",
       "  <thead>\n",
       "    <tr style=\"text-align: right;\">\n",
       "      <th></th>\n",
       "      <th>stud_id</th>\n",
       "      <th>cgpa</th>\n",
       "    </tr>\n",
       "  </thead>\n",
       "  <tbody>\n",
       "    <tr>\n",
       "      <th>count</th>\n",
       "      <td>60.000000</td>\n",
       "      <td>59.000000</td>\n",
       "    </tr>\n",
       "    <tr>\n",
       "      <th>mean</th>\n",
       "      <td>30.500000</td>\n",
       "      <td>7.938983</td>\n",
       "    </tr>\n",
       "    <tr>\n",
       "      <th>std</th>\n",
       "      <td>17.464249</td>\n",
       "      <td>0.967759</td>\n",
       "    </tr>\n",
       "    <tr>\n",
       "      <th>min</th>\n",
       "      <td>1.000000</td>\n",
       "      <td>6.300000</td>\n",
       "    </tr>\n",
       "    <tr>\n",
       "      <th>25%</th>\n",
       "      <td>15.750000</td>\n",
       "      <td>7.000000</td>\n",
       "    </tr>\n",
       "    <tr>\n",
       "      <th>50%</th>\n",
       "      <td>30.500000</td>\n",
       "      <td>7.900000</td>\n",
       "    </tr>\n",
       "    <tr>\n",
       "      <th>75%</th>\n",
       "      <td>45.250000</td>\n",
       "      <td>8.800000</td>\n",
       "    </tr>\n",
       "    <tr>\n",
       "      <th>max</th>\n",
       "      <td>60.000000</td>\n",
       "      <td>9.400000</td>\n",
       "    </tr>\n",
       "  </tbody>\n",
       "</table>\n",
       "</div>"
      ],
      "text/plain": [
       "         stud_id       cgpa\n",
       "count  60.000000  59.000000\n",
       "mean   30.500000   7.938983\n",
       "std    17.464249   0.967759\n",
       "min     1.000000   6.300000\n",
       "25%    15.750000   7.000000\n",
       "50%    30.500000   7.900000\n",
       "75%    45.250000   8.800000\n",
       "max    60.000000   9.400000"
      ]
     },
     "execution_count": 5,
     "metadata": {},
     "output_type": "execute_result"
    }
   ],
   "source": [
    "df.describe()"
   ]
  },
  {
   "cell_type": "code",
   "execution_count": 6,
   "id": "790400df-1140-4990-9629-b7489373c7c9",
   "metadata": {},
   "outputs": [
    {
     "data": {
      "text/plain": [
       "stud_id          0\n",
       "stud_name        0\n",
       "college_name     0\n",
       "course           0\n",
       "cgpa             1\n",
       "placed or not    0\n",
       "company_name     6\n",
       "dtype: int64"
      ]
     },
     "execution_count": 6,
     "metadata": {},
     "output_type": "execute_result"
    }
   ],
   "source": [
    "df.isnull().sum()"
   ]
  },
  {
   "cell_type": "code",
   "execution_count": 21,
   "id": "b0ed7258-b289-45cf-a886-19442ce7cd70",
   "metadata": {},
   "outputs": [
    {
     "name": "stdout",
     "output_type": "stream",
     "text": [
      "5      Emily Green\n",
      "13      Megan Hall\n",
      "20     Ethan Clark\n",
      "25     Emma Walker\n",
      "31    Elijah Adams\n",
      "35    James Taylor\n",
      "46    Harper Moore\n",
      "49    Henry Taylor\n",
      "54    Olivia Brown\n",
      "58     Emma Walker\n",
      "Name: stud_name, dtype: object\n"
     ]
    }
   ],
   "source": [
    "names = df[(df['cgpa'] >= 7.0) & (df['cgpa'] <= 8.0) & (df['placed or not'] == 'Yes')]['stud_name']\n",
    "print(names)"
   ]
  },
  {
   "cell_type": "code",
   "execution_count": 28,
   "id": "6a331065-76f3-4273-a254-0368c98f31d4",
   "metadata": {},
   "outputs": [
    {
     "data": {
      "image/png": "[encoded data removed]",
      "text/plain": [
       "<Figure size 1000x600 with 1 Axes>"
      ]
     },
     "metadata": {},
     "output_type": "display_data"
    }
   ],
   "source": [
    "import matplotlib.pyplot as plt\n",
    "\n",
    "# Filtered DataFrame\n",
    "\n",
    "# Plot\n",
    "plt.figure(figsize=(10, 6))\n",
    "plt.bar(df['course'], df['cgpa'], color='skyblue')\n",
    "plt.xticks(rotation=45, ha='right')\n",
    "plt.xlabel(\"department Name\")\n",
    "plt.ylabel(\"CGPA\")\n",
    "plt.title(\"department wise GPA\")\n",
    "plt.tight_layout()\n",
    "plt.show()\n"
   ]
  },
  {
   "cell_type": "code",
   "execution_count": null,
   "id": "eccf8228-8a2c-460f-870f-a7aeaede850f",
   "metadata": {},
   "outputs": [],
   "source": []
  }
 ],
 "metadata": {
  "kernelspec": {
   "display_name": "Python 3 (ipykernel)",
   "language": "python",
   "name": "python3"
  },
  "language_info": {
   "codemirror_mode": {
    "name": "ipython",
    "version": 3
   },
   "file_extension": ".py",
   "mimetype": "text/x-python",
   "name": "python",
   "nbconvert_exporter": "python",
   "pygments_lexer": "ipython3",
   "version": "3.13.3"
  }
 },
 "nbformat": 4,
 "nbformat_minor": 5
}
