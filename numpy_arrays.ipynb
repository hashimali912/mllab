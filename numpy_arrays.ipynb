{
 "cells": [
  {
   "cell_type": "code",
   "execution_count": 1,
   "id": "2ba873c8-a95f-4659-ac23-c37eb62fd6f1",
   "metadata": {},
   "outputs": [],
   "source": [
    "import numpy as np\n"
   ]
  },
  {
   "cell_type": "code",
   "execution_count": 6,
   "id": "c772d436-d564-4080-94b1-c8b68c97d736",
   "metadata": {},
   "outputs": [
    {
     "data": {
      "text/plain": [
       "array([1, 2, 3, 4, 5])"
      ]
     },
     "execution_count": 6,
     "metadata": {},
     "output_type": "execute_result"
    }
   ],
   "source": [
    "# Create a 1-D array and display the data type of the array. \n",
    "array1=np.array([1,2,3,4 ,5])\n",
    "array1"
   ]
  },
  {
   "cell_type": "code",
   "execution_count": 13,
   "id": "ea99ce4d-064d-4580-8f5e-9c0ee86ec4eb",
   "metadata": {},
   "outputs": [
    {
     "name": "stdout",
     "output_type": "stream",
     "text": [
      "addition:\n",
      " [[ 6  8 10]\n",
      " [12 14 16]]\n"
     ]
    }
   ],
   "source": [
    "# Create two 2D-arrays of the same shape and perform arithmetic operation on their elements. \n",
    "ar1=np.array([[1,2,3],[4,5,6]])\n",
    "ar2=np.array([[5,6,7],[8,9,10]])\n",
    "#addition\n",
    "addition=ar1+ar2\n",
    "print(\"addition:\\n\",addition)"
   ]
  },
  {
   "cell_type": "code",
   "execution_count": 14,
   "id": "d39be34a-6d52-4648-97af-eb4e9b9e27d7",
   "metadata": {},
   "outputs": [
    {
     "name": "stdout",
     "output_type": "stream",
     "text": [
      "subtraction:\n",
      " [[-4 -4 -4]\n",
      " [-4 -4 -4]]\n"
     ]
    }
   ],
   "source": [
    "subtraction=ar1-ar2\n",
    "print(\"subtraction:\\n\",subtraction)"
   ]
  },
  {
   "cell_type": "code",
   "execution_count": 15,
   "id": "2e8ab0bc-7fcf-4102-ba49-f296f5d0e8c4",
   "metadata": {},
   "outputs": [
    {
     "name": "stdout",
     "output_type": "stream",
     "text": [
      "multiplication:\n",
      " [[ 5 12 21]\n",
      " [32 45 60]]\n"
     ]
    }
   ],
   "source": [
    "multiplication=ar1*ar2\n",
    "print(\"multiplication:\\n\",multiplication)"
   ]
  },
  {
   "cell_type": "code",
   "execution_count": 16,
   "id": "69019044-3286-4f80-8058-afcd2bdc849c",
   "metadata": {},
   "outputs": [
    {
     "name": "stdout",
     "output_type": "stream",
     "text": [
      "division:\n",
      " [[0.2        0.33333333 0.42857143]\n",
      " [0.5        0.55555556 0.6       ]]\n"
     ]
    }
   ],
   "source": [
    "division=ar1/ar2\n",
    "print(\"division:\\n\", division)"
   ]
  },
  {
   "cell_type": "code",
   "execution_count": 17,
   "id": "d17a15a5-263c-46ac-88b7-bacd4fd1e60f",
   "metadata": {},
   "outputs": [
    {
     "name": "stdout",
     "output_type": "stream",
     "text": [
      "power:\n",
      " [[       1       64     2187]\n",
      " [   65536  1953125 60466176]]\n"
     ]
    }
   ],
   "source": [
    "power=np.power(ar1,ar2)\n",
    "print(\"power:\\n\",power)"
   ]
  },
  {
   "cell_type": "code",
   "execution_count": 23,
   "id": "f7e700b0-a03d-44d3-9469-2bfbcd1847a9",
   "metadata": {},
   "outputs": [
    {
     "name": "stdout",
     "output_type": "stream",
     "text": [
      "[[ 1  2  3]\n",
      " [ 4  5  6]\n",
      " [ 5  6  7]\n",
      " [ 8  9 10]]\n"
     ]
    }
   ],
   "source": [
    "# Concatenate the above 2D-arrays along rows or columns and display the result. \n",
    "con = np.concatenate([ar1,ar2])\n",
    "print(con)"
   ]
  },
  {
   "cell_type": "code",
   "execution_count": 25,
   "id": "f7f0cbbe-fd04-40f5-b086-25b7ec84eb57",
   "metadata": {},
   "outputs": [
    {
     "name": "stdout",
     "output_type": "stream",
     "text": [
      "[ 1  2  3  4  5  6  5  6  7  8  9 10]\n"
     ]
    }
   ],
   "source": [
    "#Convert the concatenated array into a 1D-Array and display it.\n",
    "flat = con.flatten()\n",
    "print(flat)"
   ]
  },
  {
   "cell_type": "code",
   "execution_count": null,
   "id": "494c2250-e6da-49de-aa26-35618b24649e",
   "metadata": {},
   "outputs": [],
   "source": []
  }
 ],
 "metadata": {
  "kernelspec": {
   "display_name": "Python 3 (ipykernel)",
   "language": "python",
   "name": "python3"
  },
  "language_info": {
   "codemirror_mode": {
    "name": "ipython",
    "version": 3
   },
   "file_extension": ".py",
   "mimetype": "text/x-python",
   "name": "python",
   "nbconvert_exporter": "python",
   "pygments_lexer": "ipython3",
   "version": "3.13.3"
  }
 },
 "nbformat": 4,
 "nbformat_minor": 5
}
