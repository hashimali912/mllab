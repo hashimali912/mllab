{
 "cells": [
  {
   "cell_type": "code",
   "execution_count": 1,
   "id": "cdfea3aa-ea41-420b-a035-62923817eea3",
   "metadata": {},
   "outputs": [
    {
     "name": "stdout",
     "output_type": "stream",
     "text": [
      "2x4 Array of Zeros:\n",
      " [[0. 0. 0. 0.]\n",
      " [0. 0. 0. 0.]]\n"
     ]
    }
   ],
   "source": [
    "import numpy as np\n",
    "\n",
    "# Create a 2x4 array of zeros\n",
    "zeros_array = np.zeros((2, 4))\n",
    "print(\"2x4 Array of Zeros:\\n\", zeros_array)"
   ]
  },
  {
   "cell_type": "code",
   "execution_count": 2,
   "id": "0f9aeb3a-e975-4a85-a39e-d4d4e0a894ce",
   "metadata": {},
   "outputs": [
    {
     "name": "stdout",
     "output_type": "stream",
     "text": [
      "\n",
      "4x2 Array of Ones:\n",
      " [[1. 1.]\n",
      " [1. 1.]\n",
      " [1. 1.]\n",
      " [1. 1.]]\n"
     ]
    }
   ],
   "source": [
    "# Create a 4x2 array of ones\n",
    "ones_array = np.ones((4, 2))\n",
    "print(\"\\n4x2 Array of Ones:\\n\", ones_array)"
   ]
  },
  {
   "cell_type": "code",
   "execution_count": 4,
   "id": "b75e103c-6b7e-4988-8d8e-3b7cf399a3b2",
   "metadata": {},
   "outputs": [
    {
     "name": "stdout",
     "output_type": "stream",
     "text": [
      "Zeros Array - Shape: (2, 4) , Dimensions: 2 , DataType: float64\n",
      "Ones Array - Shape: (4, 2) , Dimensions: 2 , DataType: float64\n"
     ]
    }
   ],
   "source": [
    "# Print shape, dimensions, and data type of both arrays\n",
    "print(\"Zeros Array - Shape:\", zeros_array.shape, \", Dimensions:\", zeros_array.ndim, \", DataType:\", zeros_array.dtype)\n",
    "print(\"Ones Array - Shape:\", ones_array.shape, \", Dimensions:\", ones_array.ndim, \", DataType:\", ones_array.dtype)\n"
   ]
  },
  {
   "cell_type": "code",
   "execution_count": 5,
   "id": "3255d586-2bcc-4252-a6b1-8224efbbcb1d",
   "metadata": {},
   "outputs": [
    {
     "name": "stdout",
     "output_type": "stream",
     "text": [
      "\n",
      "1D version of 4x2 Ones Array:\n",
      " [1. 1. 1. 1. 1. 1. 1. 1.]\n"
     ]
    }
   ],
   "source": [
    "# Convert 4x2 array of ones into 1D array\n",
    "ones_flat = ones_array.flatten()\n",
    "print(\"\\n1D version of 4x2 Ones Array:\\n\", ones_flat)"
   ]
  },
  {
   "cell_type": "code",
   "execution_count": 6,
   "id": "04a45f39-c7a6-4f98-87d9-fdfdc0da194c",
   "metadata": {},
   "outputs": [
    {
     "name": "stdout",
     "output_type": "stream",
     "text": [
      "\n",
      "Reshaped to 2x4:\n",
      " [[1. 1. 1. 1.]\n",
      " [1. 1. 1. 1.]]\n"
     ]
    }
   ],
   "source": [
    "# Reshape into a different valid shape (e.g., 2x4)\n",
    "reshaped = ones_flat.reshape((2, 4))\n",
    "print(\"\\nReshaped to 2x4:\\n\", reshaped)"
   ]
  },
  {
   "cell_type": "code",
   "execution_count": 7,
   "id": "216d5693-5fad-4f1d-b73f-a7c4434667f4",
   "metadata": {},
   "outputs": [
    {
     "name": "stdout",
     "output_type": "stream",
     "text": [
      "\n",
      "4D Array:\n",
      " [[[[1 2]\n",
      "   [3 4]]]\n",
      "\n",
      "\n",
      " [[[5 6]\n",
      "   [7 8]]]]\n"
     ]
    }
   ],
   "source": [
    "# Create a 4D array (e.g., shape 2x1x2x2)\n",
    "array_4d = np.array([[[[1, 2], [3, 4]]], [[[5, 6], [7, 8]]]])\n",
    "print(\"\\n4D Array:\\n\", array_4d)"
   ]
  },
  {
   "cell_type": "code",
   "execution_count": 8,
   "id": "f96087d2-b021-47f5-a806-9f8a507d9fe6",
   "metadata": {},
   "outputs": [
    {
     "name": "stdout",
     "output_type": "stream",
     "text": [
      "\n",
      "4D Array with Float Type:\n",
      " [[[[1. 2.]\n",
      "   [3. 4.]]]\n",
      "\n",
      "\n",
      " [[[5. 6.]\n",
      "   [7. 8.]]]]\n"
     ]
    }
   ],
   "source": [
    "# Convert its elements to float\n",
    "array_4d_float = array_4d.astype(float)\n",
    "print(\"\\n4D Array with Float Type:\\n\", array_4d_float)"
   ]
  },
  {
   "cell_type": "code",
   "execution_count": null,
   "id": "4fcb9431-cfe6-40dc-9bef-57a414347794",
   "metadata": {},
   "outputs": [],
   "source": [
    "        "
   ]
  }
 ],
 "metadata": {
  "kernelspec": {
   "display_name": "Python 3 (ipykernel)",
   "language": "python",
   "name": "python3"
  },
  "language_info": {
   "codemirror_mode": {
    "name": "ipython",
    "version": 3
   },
   "file_extension": ".py",
   "mimetype": "text/x-python",
   "name": "python",
   "nbconvert_exporter": "python",
   "pygments_lexer": "ipython3",
   "version": "3.13.3"
  }
 },
 "nbformat": 4,
 "nbformat_minor": 5
}
