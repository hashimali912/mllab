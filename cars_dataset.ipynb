{
 "cells": [
  {
   "cell_type": "code",
   "execution_count": 1,
   "id": "1dd098e9-c9f3-44ca-867b-cfcc1b90a317",
   "metadata": {},
   "outputs": [],
   "source": [
    "import pandas as pd\n",
    "import numpy as np"
   ]
  },
  {
   "cell_type": "code",
   "execution_count": null,
   "id": "c8b557c6-8779-419c-a7ad-30fe650cf4d6",
   "metadata": {},
   "outputs": [],
   "source": [
    "# Read the dataset\n",
    "df = pd.read_csv(\"cars.csv\")"
   ]
  },
  {
   "cell_type": "code",
   "execution_count": null,
   "id": "69a087b9-59b8-4fb1-971e-30b5afb51dd6",
   "metadata": {},
   "outputs": [],
   "source": [
    "# First 5 rows\n",
    "print(\"First 5 rows:\\n\", df.head())\n",
    "\n",
    "# Last 5 rows\n",
    "print(\"\\nLast 5 rows:\\n\", df.tail())"
   ]
  },
  {
   "cell_type": "code",
   "execution_count": null,
   "id": "3ee8aeb0-a66e-4cc2-85b4-7f5936aad7c1",
   "metadata": {},
   "outputs": [],
   "source": [
    "# check for missing values\n",
    "print(\"\\nMissing values per column:\\n\", df.isnull().sum())"
   ]
  },
  {
   "cell_type": "code",
   "execution_count": null,
   "id": "053bfa65-dd3a-4194-9d61-d211cfd087b4",
   "metadata": {},
   "outputs": [],
   "source": [
    "# Handle missing values\n",
    "# Drop all rows with any missing values\n",
    "df_cleaned = df.dropna()"
   ]
  },
  {
   "cell_type": "code",
   "execution_count": null,
   "id": "01a8f0c9-4a07-4097-8e19-e24b3c78d397",
   "metadata": {},
   "outputs": [],
   "source": [
    "# Display Shape and Statistical Summary\n",
    "print(\"\\nShape of dataset:\", df.shape)\n",
    "print(\"\\nStatistical Summary:\\n\", df.describe(include='all'))"
   ]
  },
  {
   "cell_type": "code",
   "execution_count": null,
   "id": "c72319a1-870a-4ac7-b07d-7bad434cd481",
   "metadata": {},
   "outputs": [],
   "source": [
    "import matplotlib.pyplot as plt\n",
    "\n",
    "df[\"Door\"].hist(bins=range(1, 7))\n",
    "plt.title(f\"Distribution of '{door_col[0]}'\")\n",
    "plt.xlabel(\"Number of Doors\")\n",
    "plt.ylabel(\"Count\")\n",
    "plt.show()"
   ]
  }
 ],
 "metadata": {
  "kernelspec": {
   "display_name": "Python 3 (ipykernel)",
   "language": "python",
   "name": "python3"
  },
  "language_info": {
   "codemirror_mode": {
    "name": "ipython",
    "version": 3
   },
   "file_extension": ".py",
   "mimetype": "text/x-python",
   "name": "python",
   "nbconvert_exporter": "python",
   "pygments_lexer": "ipython3",
   "version": "3.13.3"
  }
 },
 "nbformat": 4,
 "nbformat_minor": 5
}
